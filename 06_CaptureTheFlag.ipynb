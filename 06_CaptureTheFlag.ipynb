{
 "cells": [
  {
   "cell_type": "markdown",
   "id": "d8c2addb-808e-4c01-8eb0-d748e4d5f07d",
   "metadata": {},
   "source": [
    "# Capture the Flag\n",
    "\n",
    "Wanna play? Have a look at the brand new (and very much not complete) CTF interface: https://ctf.lookyloo.eu/"
   ]
  },
  {
   "cell_type": "code",
   "execution_count": null,
   "id": "f28e347e-0b73-42be-83b4-027d620986d0",
   "metadata": {},
   "outputs": [],
   "source": [
    "!curl https://ctf.lookyloo.eu/"
   ]
  },
  {
   "cell_type": "markdown",
   "id": "d8a95d50-727a-431d-aea1-f25eb400345f",
   "metadata": {},
   "source": [
    "Look at the HTTP Headers in the response"
   ]
  },
  {
   "cell_type": "code",
   "execution_count": null,
   "id": "d31cb376-0a1a-4e1c-9365-af94da853a70",
   "metadata": {},
   "outputs": [],
   "source": [
    "!curl -vvv https://ctf.lookyloo.eu/"
   ]
  },
  {
   "cell_type": "markdown",
   "id": "cf6bb4f8-c114-4994-b40c-956382759770",
   "metadata": {},
   "source": [
    "Send another user agent, ask for hints in the requests HTTP Header, capture it with lookyloo... \n",
    "\n",
    "```\n",
    "--user-agent <useragent>\n",
    "\n",
    "--header <key: Value>\n",
    "```"
   ]
  },
  {
   "cell_type": "markdown",
   "id": "f74c4892-22de-4f73-bdf2-33e77afcfabc",
   "metadata": {},
   "source": [
    "## Ask if tou need more hints"
   ]
  },
  {
   "cell_type": "code",
   "execution_count": null,
   "id": "0a5f317a-b82f-4bd9-8fca-3884d31f6dad",
   "metadata": {},
   "outputs": [],
   "source": []
  },
  {
   "cell_type": "code",
   "execution_count": null,
   "id": "be1430c6-9ac5-42d5-b492-156193eee2e3",
   "metadata": {},
   "outputs": [],
   "source": []
  }
 ],
 "metadata": {
  "kernelspec": {
   "display_name": "Python 3 (ipykernel)",
   "language": "python",
   "name": "python3"
  },
  "language_info": {
   "codemirror_mode": {
    "name": "ipython",
    "version": 3
   },
   "file_extension": ".py",
   "mimetype": "text/x-python",
   "name": "python",
   "nbconvert_exporter": "python",
   "pygments_lexer": "ipython3",
   "version": "3.12.3"
  }
 },
 "nbformat": 4,
 "nbformat_minor": 5
}
