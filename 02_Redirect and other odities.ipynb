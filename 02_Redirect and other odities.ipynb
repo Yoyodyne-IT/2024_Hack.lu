{
 "cells": [
  {
   "cell_type": "markdown",
   "metadata": {},
   "source": [
    "# Part II: Let's look at redirects\n",
    "\n",
    "In the `Part I` of this tutorial, we saw a simple HTTP redirect handled at the server level. It is not the only way to redirect a browser.\n",
    "\n",
    "## Redirects in the webpage\n",
    "\n",
    "### Meta refresh\n",
    "\n",
    "#### The sane one\n",
    "\n",
    "Redirects to https://example.com after 5 seconds.\n",
    "\n",
    "```html\n",
    "<head>\n",
    "  <meta http-equiv=\"refresh\" content=\"5; url=https://example.com/\">\n",
    "</head>\n",
    "```\n",
    "\n",
    "Read more on [Wikipedia](https://en.wikipedia.org/wiki/Meta_refresh).\n",
    "\n",
    "#### The less sane ones\n",
    "\n",
    "```html\n",
    "<head>\n",
    "  <meta http-equiv=\"refresh\" content=\"5; url=redirect\">\n",
    "</head>\n",
    "```\n",
    "\n",
    "```html\n",
    "<head>\n",
    "  <meta http-equiv=\"refresh\" content=\"5; url=../redirect\">\n",
    "</head>\n",
    "```\n",
    "\n",
    "```html\n",
    "<head>\n",
    "  <meta http-equiv=\"refresh\" content=\"5; url=//example.com/\">\n",
    "</head>\n",
    "```\n",
    "\n",
    "**Questions**: \n",
    "\n",
    "* What does it do if the HTML is loaded from?\n",
    "  * http://mydomain.com/\n",
    "  * https://mydomain.com/\n",
    "  * https://mydomain.com/sub_directory/\n",
    "\n",
    "**Examples**:\n",
    "\n",
    "* https://rafiot.eu.pythonanywhere.com/redirect_http\n",
    "* https://rafiot.eu.pythonanywhere.com/redirect_http_partial\n",
    "* https://rafiot.eu.pythonanywhere.com/subdir/redirect_http_path\n",
    "* https://rafiot.eu.pythonanywhere.com/redirect_http_partial_no_scheme\n",
    "* https://rafiot.eu.pythonanywhere.com/subdir/redirect_http_partial_no_slash\n"
   ]
  },
  {
   "cell_type": "code",
   "execution_count": null,
   "metadata": {},
   "outputs": [],
   "source": [
    "!curl https://rafiot.eu.pythonanywhere.com/subdir/redirect_http_path"
   ]
  },
  {
   "cell_type": "markdown",
   "metadata": {},
   "source": [
    "### JavaScript\n",
    "\n",
    "Redirect to https://example.com, immediately or not.\n",
    "\n",
    "#### window.location.href\n",
    "\n",
    "```html\n",
    "<script>\n",
    "  window.location.href = \"https://example.com\";\n",
    "</script>\n",
    "```\n",
    "\n",
    "\n",
    "#### With timeout\n",
    "\n",
    "```html\n",
    "<script>\n",
    "  function redirectFunc() {                                                \n",
    "    window.location.replace(\"https://example.com\");\n",
    "  }                                                                        \n",
    "  setTimeout(\"redirectFunc()\", 2000);                                      \n",
    "</script>\n",
    "```\n",
    "\n",
    "```html\n",
    "<script>\n",
    "  function redirectFunc() {                                                \n",
    "    window.location.assign(\"https://example.com\");\n",
    "  }                                                                        \n",
    "  setTimeout(\"redirectFunc()\", 2000);                                      \n",
    "</script>\n",
    "```\n",
    "\n",
    "\n",
    "#### Obfuscated\n",
    "\n",
    "```html\n",
    "    <script>\n",
    "      var _0xe753=[\"\\x68\\x74\\x74\\x70\\x73\\x3A\\x2F\\x2F\\x77\\x77\\x77\\x2E\\x79\\x6F\\x75\\x74\\x75\\x62\\x65\\x2E\\x63\\x6F\\x6D\\x2F\\x77\\x61\\x74\\x63\\x68\\x3F\\x76\\x3D\\x69\\x77\\x47\\x46\\x61\\x6C\\x54\\x52\\x48\\x44\\x41\",\"\\x61\\x73\\x73\\x69\\x67\\x6E\",\"\\x6C\\x6F\\x63\\x61\\x74\\x69\\x6F\\x6E\",\"\\x72\\x65\\x64\\x69\\x72\\x65\\x63\\x74\\x46\\x75\\x6E\\x63\\x28\\x29\"];function redirectFunc(){window[_0xe753[2]][_0xe753[1]](_0xe753[0])}setTimeout(_0xe753[3],2000)\n",
    "    </script>\n",
    "```\n",
    "\n",
    "**Question**:\n",
    "* And what about partial URLs?\n",
    "\n",
    "\n",
    "**Examples**:\n",
    "* https://rafiot.eu.pythonanywhere.com/redirect_js_loc\n",
    "* https://rafiot.eu.pythonanywhere.com/redirect_js_loc_replace\n",
    "* https://rafiot.eu.pythonanywhere.com/redirect_js_loc_assign\n",
    "* https://rafiot.eu.pythonanywhere.com/redirect_js_obfs\n",
    "* https://rafiot.eu.pythonanywhere.com/redirect_js_partial\n"
   ]
  },
  {
   "cell_type": "code",
   "execution_count": null,
   "metadata": {},
   "outputs": [],
   "source": [
    "!curl https://rafiot.eu.pythonanywhere.com/redirect_js_obfs"
   ]
  },
  {
   "cell_type": "markdown",
   "metadata": {},
   "source": [
    "### iFrame\n",
    "\n",
    "Load the 3rd party page within the body of your own page:\n",
    "\n",
    "```html\n",
    "<body>\n",
    "  <iframe src=\"//example.com\" frameborder=\"0\" marginheight=\"0\" marginwidth=\"0\"\n",
    "    width=\"100%\" height=\"100%\" scrolling=\"auto\"></iframe>\n",
    "</body>\n",
    "```"
   ]
  },
  {
   "cell_type": "code",
   "execution_count": null,
   "metadata": {},
   "outputs": [],
   "source": [
    "!curl https://rafiot.eu.pythonanywhere.com/frame"
   ]
  },
  {
   "cell_type": "markdown",
   "metadata": {},
   "source": [
    "### Messing with URL Parameters\n",
    "\n",
    "A bit of everything, depending on the URL parameter..."
   ]
  },
  {
   "cell_type": "code",
   "execution_count": null,
   "metadata": {},
   "outputs": [],
   "source": [
    "!curl https://rafiot.eu.pythonanywhere.com/url_parameter?ohai=2"
   ]
  },
  {
   "cell_type": "code",
   "execution_count": null,
   "metadata": {},
   "outputs": [],
   "source": [
    "!curl https://rafiot.eu.pythonanywhere.com/url_parameter?blah=1"
   ]
  },
  {
   "cell_type": "code",
   "execution_count": null,
   "metadata": {},
   "outputs": [],
   "source": [
    "!curl https://rafiot.eu.pythonanywhere.com/url_parameter?query=1"
   ]
  },
  {
   "cell_type": "markdown",
   "metadata": {},
   "source": [
    "**Task**: Describe what is going on for each URL."
   ]
  },
  {
   "cell_type": "markdown",
   "metadata": {},
   "source": [
    "### Stuff fully server side (kinda)\n",
    "\n",
    "**Task**: Look at the headers in the response from the server.\n",
    "\n",
    "#### 303 redirect\n",
    "\n",
    "HTTP status code 3XX have a few different meanings, you can read more on that on [Wikipedia](https://en.wikipedia.org/wiki/URL_redirection#HTTP_status_codes_3xx).\n",
    "\n",
    "**TL;DR**: your browser is sent to an other URL than the one you tried to open.\n"
   ]
  },
  {
   "cell_type": "code",
   "execution_count": 1,
   "metadata": {},
   "outputs": [
    {
     "name": "stdout",
     "output_type": "stream",
     "text": [
      "* Host rafiot.eu.pythonanywhere.com:443 was resolved.\n",
      "* IPv6: (none)\n",
      "* IPv4: 18.194.5.49\n",
      "*   Trying 18.194.5.49:443...\n",
      "* Connected to rafiot.eu.pythonanywhere.com (18.194.5.49) port 443\n",
      "* ALPN: curl offers h2,http/1.1\n",
      "* TLSv1.3 (OUT), TLS handshake, Client hello (1):\n",
      "*  CAfile: /etc/ssl/certs/ca-certificates.crt\n",
      "*  CApath: /etc/ssl/certs\n",
      "* TLSv1.3 (IN), TLS handshake, Server hello (2):\n",
      "* TLSv1.3 (IN), TLS handshake, Encrypted Extensions (8):\n",
      "* TLSv1.3 (IN), TLS handshake, Certificate (11):\n",
      "* TLSv1.3 (IN), TLS handshake, CERT verify (15):\n",
      "* TLSv1.3 (IN), TLS handshake, Finished (20):\n",
      "* TLSv1.3 (OUT), TLS change cipher, Change cipher spec (1):\n",
      "* TLSv1.3 (OUT), TLS handshake, Finished (20):\n",
      "* SSL connection using TLSv1.3 / TLS_AES_256_GCM_SHA384 / X25519 / id-ecPublicKey\n",
      "* ALPN: server accepted http/1.1\n",
      "* Server certificate:\n",
      "*  subject: CN=*.eu.pythonanywhere.com\n",
      "*  start date: Jun 17 11:49:11 2024 GMT\n",
      "*  expire date: Sep 15 11:49:10 2024 GMT\n",
      "*  subjectAltName: host \"rafiot.eu.pythonanywhere.com\" matched cert's \"*.eu.pythonanywhere.com\"\n",
      "*  issuer: C=US; O=Let's Encrypt; CN=E5\n",
      "*  SSL certificate verify ok.\n",
      "*   Certificate level 0: Public key type EC/prime256v1 (256/128 Bits/secBits), signed using ecdsa-with-SHA384\n",
      "*   Certificate level 1: Public key type EC/secp384r1 (384/192 Bits/secBits), signed using sha256WithRSAEncryption\n",
      "*   Certificate level 2: Public key type RSA (4096/152 Bits/secBits), signed using sha256WithRSAEncryption\n",
      "* using HTTP/1.x\n",
      "> GET /server_side_redirect HTTP/1.1\n",
      "> Host: rafiot.eu.pythonanywhere.com\n",
      "> User-Agent: curl/8.5.0\n",
      "> Accept: */*\n",
      "> \n",
      "* TLSv1.3 (IN), TLS handshake, Newsession Ticket (4):\n",
      "* TLSv1.3 (IN), TLS handshake, Newsession Ticket (4):\n",
      "* old SSL session ID is stale, removing\n",
      "< HTTP/1.1 303 SEE OTHER\n",
      "< Date: Thu, 04 Jul 2024 12:30:32 GMT\n",
      "< Content-Type: text/html; charset=utf-8\n",
      "< Content-Length: 215\n",
      "< Connection: keep-alive\n",
      "< Location: /redirect_http\n",
      "< X-Clacks-Overhead: GNU Terry Pratchett\n",
      "< Server: PythonAnywhere\n",
      "< \n",
      "<!doctype html>\n",
      "<html lang=en>\n",
      "<title>Redirecting...</title>\n",
      "<h1>Redirecting...</h1>\n",
      "<p>You should be redirected automatically to the target URL: <a href=\"/redirect_http\">/redirect_http</a>. If not, click the link.\n",
      "* Connection #0 to host rafiot.eu.pythonanywhere.com left intact\n"
     ]
    }
   ],
   "source": [
    "!curl -v https://rafiot.eu.pythonanywhere.com/server_side_redirect"
   ]
  },
  {
   "cell_type": "markdown",
   "metadata": {},
   "source": [
    "#### 404 with content\n",
    "\n",
    "HTTP status code 4XX means that there was an error caused by the client, you can read more on that on [Wikipedia](https://en.wikipedia.org/wiki/List_of_HTTP_status_codes#4xx_client_errors).\n",
    "\n",
    "**TL;DR**: Something happened, you get some content back, probably not what you wanted, but still a completely valid HTML response."
   ]
  },
  {
   "cell_type": "code",
   "execution_count": null,
   "metadata": {},
   "outputs": [],
   "source": [
    "!curl -v https://rafiot.eu.pythonanywhere.com/missing"
   ]
  },
  {
   "cell_type": "markdown",
   "metadata": {},
   "source": [
    "#### Refresh header\n",
    "\n",
    "HTTP Meta tag is nice, but what about we put that content directly in the HTTP headers?"
   ]
  },
  {
   "cell_type": "code",
   "execution_count": null,
   "metadata": {},
   "outputs": [],
   "source": [
    "!curl -v -L https://rafiot.eu.pythonanywhere.com/refresh_header"
   ]
  },
  {
   "cell_type": "markdown",
   "metadata": {},
   "source": [
    "#### Location header\n",
    "\n",
    "... and why would be not have a location that does the same, but slightly differently? "
   ]
  },
  {
   "cell_type": "code",
   "execution_count": null,
   "metadata": {},
   "outputs": [],
   "source": [
    "!curl -v -L https://rafiot.eu.pythonanywhere.com/location_header"
   ]
  },
  {
   "cell_type": "code",
   "execution_count": null,
   "metadata": {},
   "outputs": [],
   "source": [
    "!curl -v -L https://rafiot.eu.pythonanywhere.com/location_header_partial"
   ]
  },
  {
   "cell_type": "markdown",
   "metadata": {},
   "source": [
    "#### User agent\n",
    "\n",
    "Technique often used in websites with a mobile view, or by a malicious actor to redirect a target using a specific browser to the page containing an exploit."
   ]
  },
  {
   "cell_type": "code",
   "execution_count": null,
   "metadata": {},
   "outputs": [],
   "source": [
    "!curl -v -L https://rafiot.eu.pythonanywhere.com/user_agent"
   ]
  },
  {
   "cell_type": "markdown",
   "metadata": {},
   "source": [
    "**Task**: Try different user agents for different operating systems and see what's happening."
   ]
  },
  {
   "cell_type": "markdown",
   "metadata": {},
   "source": [
    "#### IP\n",
    "\n",
    "Redirect based on the country code of the IP the request comes from. It is used very often to block a security researcher from accessing a malicious page. Or make it impossible for you to watch a video (geofencing)."
   ]
  },
  {
   "cell_type": "code",
   "execution_count": null,
   "metadata": {},
   "outputs": [],
   "source": [
    "!curl -v -L https://rafiot.eu.pythonanywhere.com/ip"
   ]
  },
  {
   "cell_type": "markdown",
   "metadata": {},
   "source": [
    "**Task**: See that happens when you query the page from IPs in different countries."
   ]
  },
  {
   "cell_type": "markdown",
   "metadata": {},
   "source": [
    "#### Referer\n",
    "\n",
    "Often used to make sure a requests comes from a specific page. Used on banking webites to make sure the user opened the login page by clicking on a link on the front page. Also used on phishing websites to make it harder to invesigate by a security researcher."
   ]
  },
  {
   "cell_type": "code",
   "execution_count": null,
   "metadata": {},
   "outputs": [],
   "source": [
    "!curl -v -L https://rafiot.eu.pythonanywhere.com/referer"
   ]
  },
  {
   "cell_type": "markdown",
   "metadata": {},
   "source": [
    "**Task**: Pass a specific referer, get redirected somewhere else."
   ]
  },
  {
   "cell_type": "markdown",
   "metadata": {},
   "source": [
    "#### Cookie\n",
    "\n",
    "Typically used to authentify a browser after you've been authenticated."
   ]
  },
  {
   "cell_type": "code",
   "execution_count": null,
   "metadata": {},
   "outputs": [],
   "source": [
    "!curl -v -L https://rafiot.eu.pythonanywhere.com/cookie"
   ]
  },
  {
   "cell_type": "markdown",
   "metadata": {},
   "source": [
    "**Task**: Pass the right cookie and get redirected to the right place."
   ]
  }
 ],
 "metadata": {
  "kernelspec": {
   "display_name": "Python 3 (ipykernel)",
   "language": "python",
   "name": "python3"
  },
  "language_info": {
   "codemirror_mode": {
    "name": "ipython",
    "version": 3
   },
   "file_extension": ".py",
   "mimetype": "text/x-python",
   "name": "python",
   "nbconvert_exporter": "python",
   "pygments_lexer": "ipython3",
   "version": "3.12.3"
  }
 },
 "nbformat": 4,
 "nbformat_minor": 4
}
